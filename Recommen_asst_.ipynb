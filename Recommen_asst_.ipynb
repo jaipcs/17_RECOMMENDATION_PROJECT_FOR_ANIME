{
  "nbformat": 4,
  "nbformat_minor": 0,
  "metadata": {
    "colab": {
      "provenance": []
    },
    "kernelspec": {
      "name": "python3",
      "display_name": "Python 3"
    },
    "language_info": {
      "name": "python"
    }
  },
  "cells": [
    {
      "cell_type": "code",
      "execution_count": 1,
      "metadata": {
        "id": "10ihLZA1Btlv"
      },
      "outputs": [],
      "source": [
        "import pandas as pd\n",
        "from sklearn.metrics.pairwise import cosine_similarity\n",
        "from sklearn.feature_extraction.text import TfidfVectorizer\n",
        "from sklearn.preprocessing import MinMaxScaler"
      ]
    },
    {
      "cell_type": "code",
      "source": [
        "# Load the dataset\n",
        "anime_df = pd.read_csv('anime.csv')"
      ],
      "metadata": {
        "id": "RSayvfM2B2Vg"
      },
      "execution_count": 2,
      "outputs": []
    },
    {
      "cell_type": "code",
      "source": [
        "# Drop rows with missing titles or genres\n",
        "anime_df = anime_df.dropna(subset=['name', 'genre'])"
      ],
      "metadata": {
        "id": "Y-C5QpeCB2TW"
      },
      "execution_count": 3,
      "outputs": []
    },
    {
      "cell_type": "code",
      "source": [
        "# Fill missing ratings and episodes with 0\n",
        "anime_df['rating'] = anime_df['rating'].fillna(0)\n",
        "anime_df['episodes'] = anime_df['episodes'].replace('Unknown', 0).fillna(0).astype(float)"
      ],
      "metadata": {
        "id": "Hvl6YmK9B2RS"
      },
      "execution_count": 5,
      "outputs": []
    },
    {
      "cell_type": "code",
      "source": [
        "# TF-IDF Vectorizer for genres\n",
        "tfidf = TfidfVectorizer(token_pattern=r'[^, ]+')\n",
        "genre_matrix = tfidf.fit_transform(anime_df['genre'])"
      ],
      "metadata": {
        "id": "bGi2PjmbB2PB"
      },
      "execution_count": 6,
      "outputs": []
    },
    {
      "cell_type": "code",
      "source": [
        "# Normalize rating and episodes\n",
        "scaler = MinMaxScaler()\n",
        "num_features = scaler.fit_transform(anime_df[['rating', 'episodes']])"
      ],
      "metadata": {
        "id": "KKA-WVmNB2Ms"
      },
      "execution_count": 7,
      "outputs": []
    },
    {
      "cell_type": "code",
      "source": [
        "# Combine all features\n",
        "import scipy.sparse\n",
        "combined_features = scipy.sparse.hstack([genre_matrix, num_features])"
      ],
      "metadata": {
        "id": "p5mWdJVAB2Dk"
      },
      "execution_count": 8,
      "outputs": []
    },
    {
      "cell_type": "code",
      "source": [
        "# Cosine similarity\n",
        "cosine_sim = cosine_similarity(combined_features, combined_features)"
      ],
      "metadata": {
        "id": "5m1olftECBlF"
      },
      "execution_count": 9,
      "outputs": []
    },
    {
      "cell_type": "code",
      "source": [
        "# Anime title to index mapping\n",
        "anime_index = pd.Series(anime_df.index, index=anime_df['name']).drop_duplicates()\n",
        "\n",
        "# Recommendation function\n",
        "def recommend_anime(title, top_n=10):\n",
        "    idx = anime_index.get(title)\n",
        "    if idx is None:\n",
        "        return f\"'{title}' not found in dataset.\"\n",
        "\n",
        "    sim_scores = list(enumerate(cosine_sim[idx]))\n",
        "    sim_scores = sorted(sim_scores, key=lambda x: x[1], reverse=True)[1:top_n+1]\n",
        "    anime_indices = [i[0] for i in sim_scores]\n",
        "\n",
        "    return anime_df[['name', 'genre', 'rating']].iloc[anime_indices]\n",
        "\n",
        "# Example usage\n",
        "recommendations = recommend_anime('Naruto', top_n=5)\n",
        "print(recommendations)"
      ],
      "metadata": {
        "colab": {
          "base_uri": "https://localhost:8080/"
        },
        "id": "KAnnAr1hCBiV",
        "outputId": "af92220c-0e36-41fe-f865-d8a3d62e40de"
      },
      "execution_count": 10,
      "outputs": [
        {
          "output_type": "stream",
          "name": "stdout",
          "text": [
            "                                                   name  \\\n",
            "1103  Boruto: Naruto the Movie - Naruto ga Hokage ni...   \n",
            "615                                  Naruto: Shippuuden   \n",
            "486                            Boruto: Naruto the Movie   \n",
            "1343                                        Naruto x UT   \n",
            "1472        Naruto: Shippuuden Movie 4 - The Lost Tower   \n",
            "\n",
            "                                                  genre  rating  \n",
            "1103  Action, Comedy, Martial Arts, Shounen, Super P...    7.68  \n",
            "615   Action, Comedy, Martial Arts, Shounen, Super P...    7.94  \n",
            "486   Action, Comedy, Martial Arts, Shounen, Super P...    8.03  \n",
            "1343  Action, Comedy, Martial Arts, Shounen, Super P...    7.58  \n",
            "1472  Action, Comedy, Martial Arts, Shounen, Super P...    7.53  \n"
          ]
        }
      ]
    }
  ]
}